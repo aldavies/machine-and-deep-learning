{
 "cells": [
  {
   "cell_type": "code",
   "execution_count": 3,
   "metadata": {
    "collapsed": true
   },
   "outputs": [],
   "source": [
    "import matplotlib.pyplot as plt\n",
    "from sklearn import datasets\n",
    "from sklearn import metrics\n",
    "from sklearn.model_selection import train_test_split\n",
    "from sklearn.linear_model import LinearRegression"
   ]
  },
  {
   "cell_type": "code",
   "execution_count": 4,
   "metadata": {
    "collapsed": true
   },
   "outputs": [],
   "source": [
    "boston = datasets.load_boston()"
   ]
  },
  {
   "cell_type": "code",
   "execution_count": 6,
   "metadata": {},
   "outputs": [
    {
     "name": "stdout",
     "output_type": "stream",
     "text": [
      "dict_keys(['data', 'target', 'feature_names', 'DESCR'])\n"
     ]
    }
   ],
   "source": [
    "print(boston.keys())"
   ]
  },
  {
   "cell_type": "code",
   "execution_count": 8,
   "metadata": {},
   "outputs": [
    {
     "name": "stdout",
     "output_type": "stream",
     "text": [
      "['CRIM' 'ZN' 'INDUS' 'CHAS' 'NOX' 'RM' 'AGE' 'DIS' 'RAD' 'TAX' 'PTRATIO'\n",
      " 'B' 'LSTAT']\n"
     ]
    }
   ],
   "source": [
    "print(boston.feature_names)"
   ]
  },
  {
   "cell_type": "code",
   "execution_count": 9,
   "metadata": {},
   "outputs": [
    {
     "name": "stdout",
     "output_type": "stream",
     "text": [
      "(506, 13)\n"
     ]
    }
   ],
   "source": [
    "print(boston.data.shape)"
   ]
  },
  {
   "cell_type": "code",
   "execution_count": 12,
   "metadata": {
    "collapsed": true
   },
   "outputs": [],
   "source": [
    "X = boston.data"
   ]
  },
  {
   "cell_type": "code",
   "execution_count": 13,
   "metadata": {
    "collapsed": true
   },
   "outputs": [],
   "source": [
    "y = boston.target"
   ]
  },
  {
   "cell_type": "code",
   "execution_count": 14,
   "metadata": {
    "collapsed": true
   },
   "outputs": [],
   "source": [
    "X_train, X_test, y_train, y_test = train_test_split(X, y, test_size=0.33, random_state=16)"
   ]
  },
  {
   "cell_type": "code",
   "execution_count": 15,
   "metadata": {
    "collapsed": true
   },
   "outputs": [],
   "source": [
    "model = LinearRegression()"
   ]
  },
  {
   "cell_type": "code",
   "execution_count": 16,
   "metadata": {},
   "outputs": [
    {
     "data": {
      "text/plain": [
       "LinearRegression(copy_X=True, fit_intercept=True, n_jobs=1, normalize=False)"
      ]
     },
     "execution_count": 16,
     "metadata": {},
     "output_type": "execute_result"
    }
   ],
   "source": [
    "model.fit(X_train, y_train)"
   ]
  },
  {
   "cell_type": "code",
   "execution_count": 17,
   "metadata": {
    "collapsed": true
   },
   "outputs": [],
   "source": [
    "predictions = model.predict(X_test)"
   ]
  },
  {
   "cell_type": "code",
   "execution_count": 18,
   "metadata": {},
   "outputs": [
    {
     "name": "stdout",
     "output_type": "stream",
     "text": [
      "[27.17996153 13.36710212 10.10783029 35.82572884 19.66499259 24.82099246\n",
      " 24.17865885 17.07716173 24.05868016 40.2474543  15.69810097  7.32761289\n",
      " 10.79667034 26.43494221 -1.00910589 26.59966233 20.57052916 36.87996757\n",
      " 19.50871382 17.89331971 22.5971259  19.1847765  13.11798443 -0.87578332\n",
      " 16.44929748 14.93581347 12.48942978 19.52114519 18.51656507  5.21695881\n",
      " 21.04866606 20.13992126 -7.6219315   7.72052032 12.71896762 30.17204151\n",
      " 16.01965557 20.00291583 36.72302445 18.3549664  25.62432501 34.82215972\n",
      " 29.69750523 12.59537341 21.33652421 24.77909366 18.50396156 13.41221548\n",
      "  7.62099275 23.35514067 23.96960611 16.44925586 12.85402548 21.15469098\n",
      " 36.06266296 16.0865282  40.2419209  34.84410906 20.4945882  26.85741536\n",
      " 35.6346901  23.78817758 23.72761679 24.10997255 18.10240187 32.75112202\n",
      " 13.71482215 22.65558809 20.65657917 17.27999352 18.53299789 17.25424324\n",
      " 28.33924038 21.96950376 18.71105923 21.15845414 21.93233911  6.82768846\n",
      " 15.47963532 19.4740164  33.87747266 14.02346828  8.69764849 13.32385731\n",
      " 15.61489081 23.43200396  8.04973268 21.01523258 21.4755191  13.7230382\n",
      " 23.04474903 18.85396979 43.24046205 22.40084653 17.40869773 18.9946742\n",
      " 20.41531245 21.46197757 20.68043293 14.69690981 15.68267105 20.72245912\n",
      " 11.34892139 24.35360634 23.27309854 30.87836713 32.73872902 23.85093127\n",
      " 19.43606339 27.32724153 30.26797797 28.40786145 24.11184688 23.9932985\n",
      " 17.31037959 26.04257879 24.76542949 24.60999593 36.07999789 19.12152031\n",
      " 24.22633992 24.25624568 19.00585835 15.62929272 37.50961623 25.36178986\n",
      " 37.21578015 18.5437575  10.91805994 21.29693959 30.44839295 29.14156731\n",
      " 25.18782209 12.94571505 32.11926316 22.91571186 21.80652582 20.35181447\n",
      " 15.14089643 27.62678753 13.63107236 24.07294694 17.48781861 20.29714288\n",
      " 31.13295007 20.92507264 20.64209172 20.59177077 19.14981988 34.37695383\n",
      " 33.42204173 20.97920048 34.90795455 20.03677427 26.78120815 10.20238791\n",
      "  5.35566076 20.75840997 16.1882804  29.26806671 32.39391126 30.22803941\n",
      " 21.42403582 29.88105266 15.01693919  5.86878476 27.34506321]\n"
     ]
    }
   ],
   "source": [
    "print(predictions)"
   ]
  },
  {
   "cell_type": "code",
   "execution_count": 19,
   "metadata": {},
   "outputs": [
    {
     "data": {
      "text/plain": [
       "<matplotlib.collections.PathCollection at 0x1a1d959160>"
      ]
     },
     "execution_count": 19,
     "metadata": {},
     "output_type": "execute_result"
    }
   ],
   "source": [
    "plt.scatter(y_test, predictions)"
   ]
  },
  {
   "cell_type": "code",
   "execution_count": 20,
   "metadata": {},
   "outputs": [
    {
     "data": {
      "text/plain": [
       "<matplotlib.text.Text at 0x1a0f62cd30>"
      ]
     },
     "execution_count": 20,
     "metadata": {},
     "output_type": "execute_result"
    }
   ],
   "source": [
    "plt.xlabel('Actual Prices')"
   ]
  },
  {
   "cell_type": "code",
   "execution_count": 21,
   "metadata": {},
   "outputs": [
    {
     "data": {
      "text/plain": [
       "<matplotlib.text.Text at 0x1a1d933438>"
      ]
     },
     "execution_count": 21,
     "metadata": {},
     "output_type": "execute_result"
    }
   ],
   "source": [
    "plt.ylabel('Predicted Prices')"
   ]
  },
  {
   "cell_type": "code",
   "execution_count": 22,
   "metadata": {},
   "outputs": [
    {
     "data": {
      "image/png": "[encoded data removed]",
      "text/plain": [
       "<matplotlib.figure.Figure at 0x1a0f60c128>"
      ]
     },
     "metadata": {},
     "output_type": "display_data"
    }
   ],
   "source": [
    "plt.show()"
   ]
  },
  {
   "cell_type": "code",
   "execution_count": 23,
   "metadata": {},
   "outputs": [
    {
     "name": "stdout",
     "output_type": "stream",
     "text": [
      "0.6411952864204029\n"
     ]
    }
   ],
   "source": [
    "print(model.score(X_test, y_test))"
   ]
  },
  {
   "cell_type": "code",
   "execution_count": null,
   "metadata": {
    "collapsed": true
   },
   "outputs": [],
   "source": [
    "print(metrics.mean_squared_error(y_test, predictions))"
   ]
  }
 ],
 "metadata": {
  "kernelspec": {
   "display_name": "Python 3",
   "language": "python",
   "name": "python3"
  },
  "language_info": {
   "codemirror_mode": {
    "name": "ipython",
    "version": 3
   },
   "file_extension": ".py",
   "mimetype": "text/x-python",
   "name": "python",
   "nbconvert_exporter": "python",
   "pygments_lexer": "ipython3",
   "version": "3.6.8"
  }
 },
 "nbformat": 4,
 "nbformat_minor": 2
}
